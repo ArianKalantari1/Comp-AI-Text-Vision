{
 "cells": [
  {
   "cell_type": "code",
   "execution_count": 628,
   "id": "67513828-8ccd-4206-a62e-eefbcdfa85b6",
   "metadata": {},
   "outputs": [
    {
     "data": {
      "text/plain": [
       "[PhysicalDevice(name='/physical_device:CPU:0', device_type='CPU')]"
      ]
     },
     "execution_count": 628,
     "metadata": {},
     "output_type": "execute_result"
    }
   ],
   "source": [
    "import a1\n",
    "import numpy as np\n",
    "import tensorflow as tf\n",
    "import keras\n",
    "from keras.datasets import mnist\n",
    "import keras_tuner as kt\n",
    "from tensorflow.keras.layers import Flatten, Dense, Dropout\n",
    "\n",
    "tf.config.experimental.list_physical_devices()"
   ]
  },
  {
   "cell_type": "markdown",
   "id": "b3a95868-665a-4014-af0c-ee81049c9e27",
   "metadata": {},
   "source": [
    "# Part 1.\n",
    "In this part, we are going to use simple parameters to build a model and see it's performance. This part is more for me to go through to see if the model's performance and also epochs seem right before tuning hyper parameters.\n",
    "\n",
    "***Part 2 has the main discussion point.***\n",
    "\n",
    "## Data and Parameters"
   ]
  },
  {
   "cell_type": "code",
   "execution_count": 629,
   "id": "ab3e0f56-48cc-4654-9c8a-753d6783a40c",
   "metadata": {},
   "outputs": [],
   "source": [
    "(train_images, train_labels), (test_images, test_labels) = mnist.load_data()"
   ]
  },
  {
   "cell_type": "code",
   "execution_count": 630,
   "id": "db822abb-a159-4a51-a45f-b0f67129450d",
   "metadata": {},
   "outputs": [
    {
     "name": "stdout",
     "output_type": "stream",
     "text": [
      "(60000, 28, 28)\n",
      "(60000,)\n",
      "(10000,)\n",
      "(10000, 28, 28)\n"
     ]
    }
   ],
   "source": [
    "# Checking the shape of data\n",
    "print(train_images.shape)\n",
    "print(train_labels.shape)\n",
    "print(test_labels.shape)\n",
    "print(test_images.shape)"
   ]
  },
  {
   "cell_type": "code",
   "execution_count": 631,
   "id": "b9dca4bf-0244-4ba5-824b-8d1da2a8322f",
   "metadata": {},
   "outputs": [],
   "source": [
    "# Splitting the train_images and train_labels into 2 x sets for training and testing a model.\n",
    "# We keep the test_images, test_labels data to validate the model.\n",
    "x_train = train_images\n",
    "x_val = test_images\n",
    "\n",
    "y_train = train_labels\n",
    "y_val = test_labels"
   ]
  },
  {
   "cell_type": "code",
   "execution_count": 632,
   "id": "3f2c0757-959f-4822-9c9b-22749997b76f",
   "metadata": {},
   "outputs": [],
   "source": [
    "# Converting the data so it has correct shape, data type, and value range before feeding to network.\n",
    "x_train = np.expand_dims(x_train, -1).astype(\"float32\") / 255.0\n",
    "x_val = np.expand_dims(x_val, -1).astype(\"float32\") / 255.0"
   ]
  },
  {
   "cell_type": "code",
   "execution_count": 633,
   "id": "0c57e69a-8de3-495a-ac20-d1401f836013",
   "metadata": {},
   "outputs": [],
   "source": [
    "#Simple version of the model. We first build a simple model to see it's performance.\n",
    "\n",
    "# Output has 10 values (number 0 to 9)\n",
    "num_categories = 10\n",
    "\n",
    "# Using 'categorical_crossentropy'\n",
    "y_train = keras.utils.to_categorical(y_train, num_categories)\n",
    "y_val = keras.utils.to_categorical(y_val, num_categories)\n",
    "\n",
    "#P re-defining parameters used in functions.\n",
    "rows = 28\n",
    "columns = 28\n",
    "channels = 1\n",
    "epochs = 5\n",
    "\n",
    "# As a simple model, we are using below layers.\n",
    "layer_options = [\n",
    "    (128, 'relu', 0), # 128 neurons, relu activation, no dropout\n",
    "    (128, 'relu', 0), # 128 neurons, relu activation, no dropout \n",
    "    (128, 'relu', 0.4), # 128 neurons, relu activation, no dropout\n",
    "]"
   ]
  },
  {
   "cell_type": "markdown",
   "id": "fef6f314-da97-4f22-9d04-14f79c6e0299",
   "metadata": {},
   "source": [
    "## Simple NN Model"
   ]
  },
  {
   "cell_type": "code",
   "execution_count": 635,
   "id": "c5c97e2d-9d46-434c-a8e7-d8a509ec867b",
   "metadata": {},
   "outputs": [],
   "source": [
    "# Building a model in this cell.\n",
    "model = a1.build_deep_nn(rows, columns, channels, layer_options)\n",
    "\n",
    "# Adding a final Dense layer for classification\n",
    "model.add(keras.layers.Dense(num_categories, activation='softmax'))"
   ]
  },
  {
   "cell_type": "code",
   "execution_count": 636,
   "id": "755fdf07-4a0b-4dec-8dbc-d749d5227fac",
   "metadata": {},
   "outputs": [],
   "source": [
    "model.compile(optimizer='adam',\n",
    "              # Change loss to 'categorical_crossentropy'\n",
    "              loss=keras.losses.CategoricalCrossentropy(from_logits=False),\n",
    "              metrics=['accuracy'])"
   ]
  },
  {
   "cell_type": "code",
   "execution_count": 637,
   "id": "e670dfb7-7bc2-4edf-9805-a0b5367e458d",
   "metadata": {},
   "outputs": [
    {
     "name": "stdout",
     "output_type": "stream",
     "text": [
      "Model: \"sequential_2\"\n",
      "_________________________________________________________________\n",
      " Layer (type)                Output Shape              Param #   \n",
      "=================================================================\n",
      " flatten_2 (Flatten)         (None, 784)               0         \n",
      "                                                                 \n",
      " dense_6 (Dense)             (None, 128)               100480    \n",
      "                                                                 \n",
      " dense_7 (Dense)             (None, 128)               16512     \n",
      "                                                                 \n",
      " dense_8 (Dense)             (None, 128)               16512     \n",
      "                                                                 \n",
      " dropout_3 (Dropout)         (None, 128)               0         \n",
      "                                                                 \n",
      " dense_9 (Dense)             (None, 10)                1290      \n",
      "                                                                 \n",
      "=================================================================\n",
      "Total params: 134,794\n",
      "Trainable params: 134,794\n",
      "Non-trainable params: 0\n",
      "_________________________________________________________________\n"
     ]
    }
   ],
   "source": [
    "# Confirming the model has been created with the passed params.\n",
    "model.summary()"
   ]
  },
  {
   "cell_type": "code",
   "execution_count": 638,
   "id": "f3facfb6-dff7-43e5-b38f-36ac9e37ec4e",
   "metadata": {},
   "outputs": [
    {
     "name": "stdout",
     "output_type": "stream",
     "text": [
      "Epoch 1/15\n",
      "469/469 [==============================] - 1s 2ms/step - loss: 0.3652 - accuracy: 0.8900 - val_loss: 0.1383 - val_accuracy: 0.9574\n",
      "Epoch 2/15\n",
      "469/469 [==============================] - 1s 2ms/step - loss: 0.1401 - accuracy: 0.9586 - val_loss: 0.1114 - val_accuracy: 0.9644\n",
      "Epoch 3/15\n",
      "469/469 [==============================] - 1s 2ms/step - loss: 0.0994 - accuracy: 0.9710 - val_loss: 0.0911 - val_accuracy: 0.9707\n",
      "Epoch 4/15\n",
      "469/469 [==============================] - 1s 2ms/step - loss: 0.0761 - accuracy: 0.9769 - val_loss: 0.0910 - val_accuracy: 0.9722\n",
      "Epoch 5/15\n",
      "469/469 [==============================] - 1s 2ms/step - loss: 0.0597 - accuracy: 0.9820 - val_loss: 0.0794 - val_accuracy: 0.9740\n",
      "Epoch 6/15\n",
      "469/469 [==============================] - 1s 2ms/step - loss: 0.0514 - accuracy: 0.9843 - val_loss: 0.0700 - val_accuracy: 0.9780\n",
      "Epoch 7/15\n",
      "469/469 [==============================] - 1s 2ms/step - loss: 0.0416 - accuracy: 0.9873 - val_loss: 0.0760 - val_accuracy: 0.9779\n",
      "Epoch 8/15\n",
      "469/469 [==============================] - 1s 2ms/step - loss: 0.0355 - accuracy: 0.9891 - val_loss: 0.0843 - val_accuracy: 0.9762\n",
      "Epoch 9/15\n",
      "469/469 [==============================] - 1s 2ms/step - loss: 0.0298 - accuracy: 0.9903 - val_loss: 0.0814 - val_accuracy: 0.9791\n",
      "Epoch 10/15\n",
      "469/469 [==============================] - 1s 2ms/step - loss: 0.0273 - accuracy: 0.9912 - val_loss: 0.0808 - val_accuracy: 0.9763\n",
      "Epoch 11/15\n",
      "469/469 [==============================] - 1s 2ms/step - loss: 0.0242 - accuracy: 0.9924 - val_loss: 0.0838 - val_accuracy: 0.9789\n",
      "Epoch 12/15\n",
      "469/469 [==============================] - 1s 2ms/step - loss: 0.0220 - accuracy: 0.9930 - val_loss: 0.0876 - val_accuracy: 0.9767\n",
      "Epoch 13/15\n",
      "469/469 [==============================] - 1s 2ms/step - loss: 0.0205 - accuracy: 0.9933 - val_loss: 0.0826 - val_accuracy: 0.9792\n",
      "Epoch 14/15\n",
      "469/469 [==============================] - 1s 2ms/step - loss: 0.0186 - accuracy: 0.9937 - val_loss: 0.0818 - val_accuracy: 0.9782\n",
      "Epoch 15/15\n",
      "469/469 [==============================] - 1s 2ms/step - loss: 0.0162 - accuracy: 0.9948 - val_loss: 0.0923 - val_accuracy: 0.9769\n"
     ]
    }
   ],
   "source": [
    "# fitting the model with the test set with 15 epochs and batch size of 128.\n",
    "# Interesting in determining the ideal epoch for the model.\n",
    "history = model.fit(x_train, y_train, validation_data=(x_val, y_val), epochs=15, batch_size=128)"
   ]
  },
  {
   "cell_type": "markdown",
   "id": "3759a747-7a49-4c08-baa9-cf69e3ada957",
   "metadata": {},
   "source": [
    "## Results of the Simple Model"
   ]
  },
  {
   "cell_type": "code",
   "execution_count": 639,
   "id": "a52543d8-42a9-49fe-8056-2610e5f9274f",
   "metadata": {},
   "outputs": [
    {
     "data": {
      "image/png": "[encoded data removed]",
      "text/plain": [
       "<Figure size 1500x500 with 2 Axes>"
      ]
     },
     "metadata": {},
     "output_type": "display_data"
    }
   ],
   "source": [
    "# Same as in the lecture, we are going to compare Loss and Accuracy with the ones from validation set.\n",
    "# This function produces plots to comapre them.\n",
    "def training_plot(metrics, history):\n",
    "    import matplotlib.pyplot as plt\n",
    "    \n",
    "    fig, ax = plt.subplots(1, len(metrics), figsize=(15, 5))\n",
    "    \n",
    "    if len(metrics) == 1:\n",
    "        ax = [ax]\n",
    "\n",
    "    for idx, metric in enumerate(metrics):\n",
    "        ax[idx].plot(history.history[metric], label=metric)\n",
    "        ax[idx].plot(history.history['val_' + metric], ls='dashed', label='val_' + metric)\n",
    "        ax[idx].set_title(metric.capitalize())\n",
    "        ax[idx].set_xlabel(\"Epochs\")\n",
    "        ax[idx].legend()\n",
    "\n",
    "    plt.show()\n",
    "\n",
    "    \n",
    "training_plot(['loss', 'accuracy'], history)"
   ]
  },
  {
   "cell_type": "markdown",
   "id": "d487aec0-7b1c-4eb8-8844-62bb64f20103",
   "metadata": {},
   "source": [
    "\n",
    "### Comments:\n",
    "In this simple model,\n",
    "- We can see that the loss gets closer to 0 after 10 epochs in the left-hand plot.\n",
    "- We can also see the gap between 'accuracy' and 'val_accuracy' starts becoming bigger around epoch 5.\n",
    "- We can stick to epoch = 5\n",
    "- Accuracy seems very high."
   ]
  },
  {
   "cell_type": "markdown",
   "id": "c4c2ec79-c204-437a-b553-7ce0afb6f4a8",
   "metadata": {},
   "source": [
    "# Part 2.\n",
    "## Hyper-Parameter Tuning\n",
    "\n",
    "Now we are going to investigate on what parameters can be used to reach higher accuracy. Parameters that need tuning are given below:\n",
    "- Number of hidden layers: 1 to 3.\n",
    "- Size of the hidden layers\n",
    "- Dropout rate of the final hidden layer\n",
    "\n",
    "**We are asked to answer below:**\n",
    "- What are the hyperparameters of the optimal model?\n",
    "- What are the accuracy results of the optimal model on the test set? - To make this assignment easier, use the same data for the validation set and for the test set.\n"
   ]
  },
  {
   "cell_type": "markdown",
   "id": "77378950-d9c1-468b-8e5d-813c95d8788d",
   "metadata": {},
   "source": [
    "## Redefining the Params and Data\n",
    "\n",
    "Just in case if the part 1 does not run."
   ]
  },
  {
   "cell_type": "code",
   "execution_count": 665,
   "id": "db6fcb14-257d-4d6c-b0d4-eb8fa4e19bc1",
   "metadata": {},
   "outputs": [],
   "source": [
    "# Import libraries in case there is something happened.\n",
    "from tensorflow.keras import layers, models, optimizers\n",
    "import keras_tuner as kt\n",
    "import a1\n",
    "\n",
    "# Redefining the data and updating the shapes\n",
    "(train_images, train_labels), (test_images, test_labels) = mnist.load_data()\n",
    "\n",
    "x_train = train_images\n",
    "x_val = test_images\n",
    "\n",
    "y_train = train_labels\n",
    "y_val = test_labels\n",
    "\n",
    "x_train = np.expand_dims(x_train, -1).astype(\"float32\") / 255.0\n",
    "x_val = np.expand_dims(x_val, -1).astype(\"float32\") / 255.0\n",
    "\n",
    "# Output has 10 values (number 0 to 9)\n",
    "num_categories = 10\n",
    "\n",
    "# Using 'categorical_crossentropy'\n",
    "y_train = keras.utils.to_categorical(y_train, num_categories)\n",
    "y_val = keras.utils.to_categorical(y_val, num_categories)"
   ]
  },
  {
   "cell_type": "markdown",
   "id": "21fb2154-7a08-4e85-982c-df1f6695b29f",
   "metadata": {},
   "source": [
    "### Defining HyperParameter Searching Function\n",
    "\n",
    "- Using the function we built in the earlier task (a1.py), we explore what parameters best perform.\n",
    "- This function goes through the possible combination of layers, functions and dropouts."
   ]
  },
  {
   "cell_type": "code",
   "execution_count": 685,
   "id": "92662aa5-53ba-436a-ad37-1a6f08d76ed3",
   "metadata": {},
   "outputs": [],
   "source": [
    "def build_model(hp):\n",
    "    # Define the input shape\n",
    "    rows, columns, channels = 28, 28, 1  # Assuming this input shape\n",
    "\n",
    "    # Hyperparameters for each layer\n",
    "    layer_options = []\n",
    "\n",
    "    # Tune the number of layers\n",
    "    num_layers = hp.Int(\"num_layers\", 1, 3)\n",
    "    \n",
    "    for i in range(num_layers):\n",
    "        # Tune the number of units in each layer\n",
    "        hidden_size = hp.Int(f\"units_{i}\", min_value=32, max_value=512, step=32)\n",
    "        # Tune the activation function\n",
    "        activation = hp.Choice(f\"activation_{i}\", [\"relu\", \"tanh\"])\n",
    "        # Tune the dropout rate\n",
    "        dropout_rate = hp.Float(f\"dropout_rate_{i}\", min_value=0.0, max_value=0.9, step=0.1)\n",
    "        layer_options.append((hidden_size, activation, dropout_rate)) \n",
    "\n",
    "    # Build the model using the build_deep_nn() from a1.py (task 1.3)\n",
    "    model = build_deep_nn(rows, columns, channels, layer_options)\n",
    "\n",
    "    # Output layer (10 outputs)\n",
    "    model.add(layers.Dense(10, activation=\"softmax\"))\n",
    "\n",
    "    # Defining learning rate\n",
    "    learning_rate = hp.Float(\"learning_rate\", min_value=1e-4, max_value=1e-2, sampling=\"log\")\n",
    "\n",
    "    # I'm using legacy.Adam instead as system warned \"to run this on M1/M2, legacy is better\"\n",
    "    model.compile(\n",
    "        optimizer=optimizers.legacy.Adam(learning_rate=learning_rate),\n",
    "        loss=\"categorical_crossentropy\",\n",
    "        metrics=[\"accuracy\"],\n",
    "    )\n",
    "\n",
    "    return model"
   ]
  },
  {
   "cell_type": "markdown",
   "id": "fe744bd9-1386-4cf8-853c-c39565ed1b8a",
   "metadata": {},
   "source": [
    "## Define RandomSearch\n",
    "\n",
    "In here, we define metrics, number of trials, how many executions a trial has, and directory and file name that are used to save the trial results."
   ]
  },
  {
   "cell_type": "code",
   "execution_count": 715,
   "id": "bbf76540-f0a3-4e99-839c-ad73cba91ded",
   "metadata": {},
   "outputs": [],
   "source": [
    "# Usage with KerasTuner\n",
    "tuner = kt.RandomSearch(\n",
    "    build_model,\n",
    "    objective=\"val_accuracy\",\n",
    "    max_trials=10,\n",
    "    executions_per_trial=2,\n",
    "    directory=\"tuning\",\n",
    "    project_name=\"deep_nn_tuning\",\n",
    ")"
   ]
  },
  {
   "cell_type": "markdown",
   "id": "d27945fa-e184-4e7b-9b18-df7df8cbb37a",
   "metadata": {},
   "source": [
    "## Searching Optimal HyperParameters"
   ]
  },
  {
   "cell_type": "code",
   "execution_count": 716,
   "id": "b73de2c3-e1bd-47ec-b1b1-9bbaedf2ed7b",
   "metadata": {},
   "outputs": [
    {
     "name": "stdout",
     "output_type": "stream",
     "text": [
      "Trial 10 Complete [00h 00m 24s]\n",
      "val_accuracy: 0.943200021982193\n",
      "\n",
      "Best val_accuracy So Far: 0.9791500270366669\n",
      "Total elapsed time: 00h 06m 20s\n"
     ]
    }
   ],
   "source": [
    "tuner.search(x_train, y_train, epochs=5, validation_data=(x_val, y_val))"
   ]
  },
  {
   "cell_type": "markdown",
   "id": "0f400905-d7b1-4a40-8f1a-03e28b56215b",
   "metadata": {},
   "source": [
    "## Top Performing HyperParameters\n",
    "\n",
    "Based on the result returned by keras_tuner, we can say that the best performing hyperparameters are displayed in the cell below."
   ]
  },
  {
   "cell_type": "code",
   "execution_count": 722,
   "id": "0b8d09fa-c48d-4cfc-9f4f-d4a570eb9f26",
   "metadata": {},
   "outputs": [
    {
     "name": "stdout",
     "output_type": "stream",
     "text": [
      "Results summary\n",
      "Results in tuning/deep_nn_tuning\n",
      "Showing 1 best trials\n",
      "Objective(name=\"val_accuracy\", direction=\"max\")\n",
      "\n",
      "Trial 03 summary\n",
      "Hyperparameters:\n",
      "num_layers: 1\n",
      "units_0: 416\n",
      "activation_0: relu\n",
      "dropout_rate_0: 0.4\n",
      "learning_rate: 0.0011567215009185543\n",
      "units_1: 192\n",
      "activation_1: tanh\n",
      "dropout_rate_1: 0.5\n",
      "units_2: 128\n",
      "activation_2: relu\n",
      "dropout_rate_2: 0.0\n",
      "Score: 0.9791500270366669\n",
      "None\n"
     ]
    }
   ],
   "source": [
    "print(tuner.results_summary(1))"
   ]
  },
  {
   "cell_type": "markdown",
   "id": "9221c9a5-805e-45ab-a577-506518ece469",
   "metadata": {},
   "source": [
    "## Model Tuning with the HyperParameters"
   ]
  },
  {
   "cell_type": "code",
   "execution_count": 723,
   "id": "16b8482b-a7e8-4e6f-8b2e-cf60133a3b1a",
   "metadata": {},
   "outputs": [
    {
     "name": "stdout",
     "output_type": "stream",
     "text": [
      "Model: \"sequential_3\"\n",
      "_________________________________________________________________\n",
      " Layer (type)                Output Shape              Param #   \n",
      "=================================================================\n",
      " flatten_3 (Flatten)         (None, 784)               0         \n",
      "                                                                 \n",
      " dense_6 (Dense)             (None, 416)               326560    \n",
      "                                                                 \n",
      " dropout_3 (Dropout)         (None, 416)               0         \n",
      "                                                                 \n",
      " dense_7 (Dense)             (None, 10)                4170      \n",
      "                                                                 \n",
      "=================================================================\n",
      "Total params: 330,730\n",
      "Trainable params: 330,730\n",
      "Non-trainable params: 0\n",
      "_________________________________________________________________\n"
     ]
    }
   ],
   "source": [
    "# Getting the optimal hyperparameters\n",
    "best_hps = tuner.get_best_hyperparameters()[0]\n",
    "\n",
    "# Build the model with the optimal hyperparameters\n",
    "tuned_model = build_model(best_hps)\n",
    "\n",
    "tuned_model.summary()"
   ]
  },
  {
   "cell_type": "markdown",
   "id": "e4c5a220-bb42-4c65-b580-aff065966249",
   "metadata": {},
   "source": [
    "## Performance of Tuned Model\n",
    "\n",
    "Below shown is the performance of the tuned model on test dataset. We can see that the accuracy has reached to nearly 96%. However, the accuracy has dropped when comparing to the one on training set so it's hard to believe there is overfitting."
   ]
  },
  {
   "cell_type": "code",
   "execution_count": 724,
   "id": "32a00159-9a1b-444d-8df0-daac2ded948d",
   "metadata": {},
   "outputs": [
    {
     "name": "stdout",
     "output_type": "stream",
     "text": [
      "Epoch 1/5\n",
      "79/79 [==============================] - 0s 3ms/step - loss: 0.6351 - accuracy: 0.8182\n",
      "Epoch 2/5\n",
      "79/79 [==============================] - 0s 3ms/step - loss: 0.2864 - accuracy: 0.9155\n",
      "Epoch 3/5\n",
      "79/79 [==============================] - 0s 3ms/step - loss: 0.2099 - accuracy: 0.9389\n",
      "Epoch 4/5\n",
      "79/79 [==============================] - 0s 3ms/step - loss: 0.1711 - accuracy: 0.9495\n",
      "Epoch 5/5\n",
      "79/79 [==============================] - 0s 3ms/step - loss: 0.1408 - accuracy: 0.9580\n"
     ]
    },
    {
     "data": {
      "text/plain": [
       "<keras.callbacks.History at 0x2827bc3a0>"
      ]
     },
     "execution_count": 724,
     "metadata": {},
     "output_type": "execute_result"
    }
   ],
   "source": [
    "tuned_model.fit(x_val, y_val, epochs=5, batch_size=128)"
   ]
  },
  {
   "cell_type": "code",
   "execution_count": null,
   "id": "16daad7a-bead-4a29-92a1-fff3c0014391",
   "metadata": {},
   "outputs": [],
   "source": []
  }
 ],
 "metadata": {
  "kernelspec": {
   "display_name": "Python 3 (ipykernel)",
   "language": "python",
   "name": "python3"
  },
  "language_info": {
   "codemirror_mode": {
    "name": "ipython",
    "version": 3
   },
   "file_extension": ".py",
   "mimetype": "text/x-python",
   "name": "python",
   "nbconvert_exporter": "python",
   "pygments_lexer": "ipython3",
   "version": "3.10.3"
  }
 },
 "nbformat": 4,
 "nbformat_minor": 5
}
